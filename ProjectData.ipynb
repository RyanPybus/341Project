{
  "nbformat": 4,
  "nbformat_minor": 0,
  "metadata": {
    "colab": {
      "provenance": []
    },
    "kernelspec": {
      "name": "python3",
      "display_name": "Python 3"
    },
    "language_info": {
      "name": "python"
    }
  },
  "cells": [
    {
      "cell_type": "code",
      "execution_count": 1,
      "metadata": {
        "colab": {
          "base_uri": "https://localhost:8080/"
        },
        "id": "wNM7iJ_9K3Ex",
        "outputId": "de89bb7d-fbda-43b1-c194-971c6c8a149d"
      },
      "outputs": [
        {
          "output_type": "stream",
          "name": "stdout",
          "text": [
            "Requirement already satisfied: pandas in /usr/local/lib/python3.10/dist-packages (2.1.4)\n",
            "Requirement already satisfied: numpy<2,>=1.22.4 in /usr/local/lib/python3.10/dist-packages (from pandas) (1.26.4)\n",
            "Requirement already satisfied: python-dateutil>=2.8.2 in /usr/local/lib/python3.10/dist-packages (from pandas) (2.8.2)\n",
            "Requirement already satisfied: pytz>=2020.1 in /usr/local/lib/python3.10/dist-packages (from pandas) (2024.1)\n",
            "Requirement already satisfied: tzdata>=2022.1 in /usr/local/lib/python3.10/dist-packages (from pandas) (2024.1)\n",
            "Requirement already satisfied: six>=1.5 in /usr/local/lib/python3.10/dist-packages (from python-dateutil>=2.8.2->pandas) (1.16.0)\n"
          ]
        }
      ],
      "source": [
        "!pip install pandas\n",
        "import pandas as pd"
      ]
    },
    {
      "cell_type": "code",
      "source": [
        "dfh1 = pd.read_csv('Hash1.csv')\n",
        "dfh2 = pd.read_csv('Hash2.csv')\n",
        "dfh3 = pd.read_csv('Hash3.csv')\n",
        "dfh4 = pd.read_csv('Hash4.csv')\n",
        "dfh5 = pd.read_csv('Hash5.csv')\n",
        "dfh6 = pd.read_csv('Hash6.csv')\n",
        "dfw1 = pd.read_csv('Wedge1.csv')\n",
        "dfw2 = pd.read_csv('Wedge2.csv')\n",
        "dfw3 = pd.read_csv('Wedge3.csv')\n",
        "dfw4 = pd.read_csv('Wedge4.csv')\n",
        "dfw5 = pd.read_csv('Wedge5.csv')\n",
        "dfw6 = pd.read_csv('Wedge6.csv')"
      ],
      "metadata": {
        "id": "tMkGvrn9U7IR"
      },
      "execution_count": 2,
      "outputs": []
    },
    {
      "cell_type": "code",
      "source": [
        "combined_df = pd.concat([dfh1, dfh2, dfh3, dfh4, dfh5, dfh6, dfw1, dfw2, dfw3, dfw4, dfw5, dfw6])\n",
        "print (combined_df)\n"
      ],
      "metadata": {
        "colab": {
          "base_uri": "https://localhost:8080/"
        },
        "id": "7D3gaymm2z15",
        "outputId": "4495dd84-75a7-42e4-cd20-eeda8034133a"
      },
      "execution_count": 3,
      "outputs": [
        {
          "output_type": "stream",
          "name": "stdout",
          "text": [
            "   ID     Vis  Range  Density  Errors      Time\n",
            "0   1    Hash     10        5       0  2.050920\n",
            "1   1    Hash     10        5       1  2.594456\n",
            "2   1    Hash     10        5       0  1.030781\n",
            "3   1    Hash     10        5       0  1.422715\n",
            "4   1    Hash     10        5       0  1.810216\n",
            ".. ..     ...    ...      ...     ...       ...\n",
            "75  6   Wedge      5       10       0  1.158902\n",
            "76  6   Wedge      5       10       0  2.018068\n",
            "77  6   Wedge      5       10       0  1.233623\n",
            "78  6   Wedge      5       10       0  2.264676\n",
            "79  6   Wedge      5       10       1  3.311967\n",
            "\n",
            "[960 rows x 6 columns]\n"
          ]
        }
      ]
    },
    {
      "cell_type": "code",
      "source": [
        "result = combined_df.groupby(['Vis', 'Range', 'Density'])['Time'].mean()\n",
        "print(result)\n",
        "\n",
        "result2 = combined_df.groupby(['Vis', 'Range', 'Density'])['Errors'].sum()\n",
        "print(result2)"
      ],
      "metadata": {
        "colab": {
          "base_uri": "https://localhost:8080/"
        },
        "id": "b3llNib-3IrG",
        "outputId": "00aa37e4-8ddf-4f7a-f69b-0e00df42a96d"
      },
      "execution_count": 7,
      "outputs": [
        {
          "output_type": "stream",
          "name": "stdout",
          "text": [
            "Vis     Range  Density\n",
            " Hash   5      5          3.176103\n",
            "               10         5.618693\n",
            "        10     5          2.809104\n",
            "               10         6.507819\n",
            " Wedge  5      5          1.564049\n",
            "               10         2.418155\n",
            "        10     5          1.507591\n",
            "               10         2.343211\n",
            "Name: Time, dtype: float64\n",
            "Vis     Range  Density\n",
            " Hash   5      5           67\n",
            "               10         121\n",
            "        10     5           42\n",
            "               10         146\n",
            " Wedge  5      5           17\n",
            "               10          56\n",
            "        10     5           19\n",
            "               10          54\n",
            "Name: Errors, dtype: int64\n"
          ]
        }
      ]
    },
    {
      "cell_type": "code",
      "source": [
        "# prompt: output dataframe to a csv file\n",
        "\n",
        "combined_df.to_csv('allData.csv')\n",
        "\n"
      ],
      "metadata": {
        "id": "_bIgXFJGQ4CO"
      },
      "execution_count": 9,
      "outputs": []
    },
    {
      "cell_type": "code",
      "source": [
        "result3 = combined_df.groupby(['ID', 'Vis'])['Errors'].sum()\n",
        "print(result3)\n",
        "\n",
        "result = combined_df.groupby(['ID','Vis', 'Range', 'Density'])['Time'].mean()\n",
        "print(result)\n"
      ],
      "metadata": {
        "colab": {
          "base_uri": "https://localhost:8080/"
        },
        "id": "gs_2PRaC5u8x",
        "outputId": "92a53a73-2fd3-44d1-ff10-3b50d60ac7a2"
      },
      "execution_count": 8,
      "outputs": [
        {
          "output_type": "stream",
          "name": "stdout",
          "text": [
            "ID    Vis   \n",
            "1      Hash      58\n",
            "       Wedge     24\n",
            "2      Hash      53\n",
            "       Wedge     34\n",
            "4      Hash      55\n",
            "       Wedge     27\n",
            "5      Hash     104\n",
            "       Wedge     23\n",
            "6      Hash      45\n",
            "       Wedge     13\n",
            "test   Hash      61\n",
            "       Wedge     25\n",
            "Name: Errors, dtype: int64\n",
            "ID    Vis     Range  Density\n",
            "1      Hash   5      5          3.635765\n",
            "                     10         4.856946\n",
            "              10     5          1.783949\n",
            "                     10         4.609418\n",
            "       Wedge  5      5          1.427207\n",
            "                     10         1.993238\n",
            "              10     5          1.132639\n",
            "                     10         1.960761\n",
            "2      Hash   5      5          3.064969\n",
            "                     10         5.307215\n",
            "              10     5          2.864971\n",
            "                     10         6.165374\n",
            "       Wedge  5      5          1.795717\n",
            "                     10         2.156246\n",
            "              10     5          1.782366\n",
            "                     10         2.847856\n",
            "4      Hash   5      5          4.024788\n",
            "                     10         7.764949\n",
            "              10     5          3.488931\n",
            "                     10         9.027390\n",
            "       Wedge  5      5          2.095546\n",
            "                     10         3.778538\n",
            "              10     5          2.037036\n",
            "                     10         3.029409\n",
            "5      Hash   5      5          2.819863\n",
            "                     10         4.792094\n",
            "              10     5          2.697605\n",
            "                     10         6.883644\n",
            "       Wedge  5      5          1.264979\n",
            "                     10         2.148825\n",
            "              10     5          1.272034\n",
            "                     10         1.980130\n",
            "6      Hash   5      5          2.459732\n",
            "                     10         4.264084\n",
            "              10     5          2.211371\n",
            "                     10         4.711659\n",
            "       Wedge  5      5          1.407722\n",
            "                     10         1.856585\n",
            "              10     5          1.203533\n",
            "                     10         1.874345\n",
            "test   Hash   5      5          3.051502\n",
            "                     10         6.726872\n",
            "              10     5          3.807799\n",
            "                     10         7.649432\n",
            "       Wedge  5      5          1.393123\n",
            "                     10         2.575498\n",
            "              10     5          1.617937\n",
            "                     10         2.366762\n",
            "Name: Time, dtype: float64\n"
          ]
        }
      ]
    }
  ]
}